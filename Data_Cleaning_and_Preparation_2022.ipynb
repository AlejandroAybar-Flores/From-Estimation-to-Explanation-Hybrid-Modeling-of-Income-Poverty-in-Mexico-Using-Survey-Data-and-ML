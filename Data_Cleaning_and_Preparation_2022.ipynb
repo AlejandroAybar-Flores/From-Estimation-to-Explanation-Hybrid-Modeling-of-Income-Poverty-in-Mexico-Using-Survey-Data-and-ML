{
  "cells": [
    {
      "cell_type": "code",
      "execution_count": null,
      "id": "3ce6c7b2-4812-4901-a3a3-0dceb9186a4c",
      "metadata": {
        "id": "3ce6c7b2-4812-4901-a3a3-0dceb9186a4c"
      },
      "outputs": [],
      "source": [
        "import gzip\n",
        "import csv\n",
        "import json\n",
        "import pandas as pd\n",
        "import numpy as np"
      ]
    },
    {
      "cell_type": "code",
      "execution_count": null,
      "id": "7a631820-bc8c-4b12-94cc-1cae568e9552",
      "metadata": {
        "id": "7a631820-bc8c-4b12-94cc-1cae568e9552"
      },
      "outputs": [],
      "source": [
        "data = pd.read_csv('pobreza22.csv.gz', compression='gzip')"
      ]
    },
    {
      "cell_type": "code",
      "source": [
        "len(data)"
      ],
      "metadata": {
        "id": "-ufSrQuL_9ji"
      },
      "id": "-ufSrQuL_9ji",
      "execution_count": null,
      "outputs": []
    },
    {
      "cell_type": "code",
      "execution_count": null,
      "id": "12fc89fd-0f60-4214-8a35-80aac804717c",
      "metadata": {
        "id": "12fc89fd-0f60-4214-8a35-80aac804717c"
      },
      "outputs": [],
      "source": [
        "for col in data.columns:\n",
        "    data[col] = pd.to_numeric(data[col], errors='coerce')\n",
        "\n",
        "data = data.dropna()"
      ]
    },
    {
      "cell_type": "code",
      "execution_count": null,
      "id": "83b7d98a-0d08-41fa-ada1-1b3cc1c7a5e6",
      "metadata": {
        "id": "83b7d98a-0d08-41fa-ada1-1b3cc1c7a5e6"
      },
      "outputs": [],
      "source": [
        "data = data.reset_index()"
      ]
    },
    {
      "cell_type": "code",
      "source": [
        "len(data)"
      ],
      "metadata": {
        "id": "Ue9nag8Y_-wC"
      },
      "id": "Ue9nag8Y_-wC",
      "execution_count": null,
      "outputs": []
    },
    {
      "cell_type": "code",
      "execution_count": null,
      "id": "f2003db5-9e42-41d9-b51e-203d0a58a7c1",
      "metadata": {
        "id": "f2003db5-9e42-41d9-b51e-203d0a58a7c1"
      },
      "outputs": [],
      "source": [
        "columnas_deseadas = [\n",
        "    'folioviv', 'foliohog', 'numren', 'est_dis', 'upm', 'factor',\n",
        "    'paren', 'plp_e', 'plp', 'ent', 'rururb', 'edad', 'sexo', 'alfabetism',\n",
        "    'trabajo_mp', 'id_men', 'ins_ali', 'hli', 'segpop', 'atemed',\n",
        "    'telefono', 'celular', 'tv_paga', 'conex_inte', 'tarjeta', 'tenencia', 'aire_acond', 'calefacc',\n",
        "    'gas_alim_e', 'gas_tran_e', 'disp_agua', 'drenaje', 'disp_elect', 'tot_resid',\n",
        "    'd_ejh_supe', 'd_ejh_prep', 'd_ejh_secu', 'd_ejh_prim', 'd_ejh_sine',\n",
        "    'trab_men1214', 'trab_men1517',\n",
        "    'n_sinco_1', 'n_sinco_4', 'n_sinco_7', 'n_sinco_2', 'n_sinco_5', 'n_sinco_8',\n",
        "    'n_sinco_3', 'n_sinco_6', 'n_sinco_9'\n",
        "]"
      ]
    },
    {
      "cell_type": "code",
      "execution_count": null,
      "id": "d0a13955-0f3a-407b-8fb9-85892416d02f",
      "metadata": {
        "id": "d0a13955-0f3a-407b-8fb9-85892416d02f"
      },
      "outputs": [],
      "source": [
        "# Filtra solo las columnas disponibles para evitar errores si alguna falta\n",
        "data = data[[col for col in columnas_deseadas if col in data.columns]].copy()"
      ]
    },
    {
      "cell_type": "code",
      "execution_count": null,
      "id": "cca1a461-1f0c-4608-b134-9c3f85bd4f1c",
      "metadata": {
        "id": "cca1a461-1f0c-4608-b134-9c3f85bd4f1c"
      },
      "outputs": [],
      "source": [
        "# Diccionario que mapea el número de entidad a la región\n",
        "ent_a_region = {\n",
        "    1: \"1\",            # Aguascalientes\n",
        "    2: \"2\",               # Baja California\n",
        "    3: \"2\",               # Baja California Sur\n",
        "    4: \"3\",                # Campeche\n",
        "    5: \"4\",                # Coahuila de Zaragoza\n",
        "    6: \"5\",             # Colima\n",
        "    7: \"6\",               # Chiapas\n",
        "    8: \"2\",               # Chihuahua\n",
        "    9: \"7\",              # Ciudad de México\n",
        "    10: \"2\",              # Durango\n",
        "    11: \"1\",           # Guanajuato\n",
        "    12: \"6\",              # Guerrero\n",
        "    13: \"8\",               # Hidalgo\n",
        "    14: \"5\",             # Jalisco\n",
        "    15: \"7\",             # México (Estado de México)\n",
        "    16: \"5\",             # Michoacán de Ocampo\n",
        "    17: \"7\",             # Morelos\n",
        "    18: \"5\",             # Nayarit\n",
        "    19: \"4\",               # Nuevo León\n",
        "    20: \"6\",              # Oaxaca\n",
        "    21: \"8\",               # Puebla\n",
        "    22: \"1\",           # Querétaro\n",
        "    23: \"3\",               # Quintana Roo\n",
        "    24: \"1\",           # San Luis Potosí\n",
        "    25: \"2\",              # Sinaloa\n",
        "    26: \"2\",              # Sonora\n",
        "    27: \"3\",               # Tabasco\n",
        "    28: \"4\",               # Tamaulipas\n",
        "    29: \"8\",               # Tlaxcala\n",
        "    30: \"8\",               # Veracruz de Ignacio de la Llave\n",
        "    31: \"3\",               # Yucatán\n",
        "    32: \"1\",           # Zacatecas\n",
        "}"
      ]
    },
    {
      "cell_type": "code",
      "execution_count": null,
      "id": "a3d04211-6f5e-496d-999c-e359e76c264b",
      "metadata": {
        "id": "a3d04211-6f5e-496d-999c-e359e76c264b"
      },
      "outputs": [],
      "source": [
        "data['región'] = data['ent'].map(ent_a_region)"
      ]
    },
    {
      "cell_type": "code",
      "execution_count": null,
      "id": "073ce8b2-4ca2-4c25-8f6c-2d6c544b3d95",
      "metadata": {
        "id": "073ce8b2-4ca2-4c25-8f6c-2d6c544b3d95"
      },
      "outputs": [],
      "source": [
        "data = data.drop('ent', axis=1)"
      ]
    },
    {
      "cell_type": "code",
      "execution_count": null,
      "id": "5b4eb1da-47bf-4f0c-9b02-8b6d5de8f452",
      "metadata": {
        "id": "5b4eb1da-47bf-4f0c-9b02-8b6d5de8f452"
      },
      "outputs": [],
      "source": [
        "# Lista de columnas a evaluar\n",
        "cols_conectividad = ['telefono', 'celular', 'tv_paga', 'conex_inte']\n",
        "\n",
        "# Crear la nueva columna: 1 si alguno de ellos es 1, si no 0\n",
        "data['conectividad'] = data[cols_conectividad].eq(1).any(axis=1).astype(int)"
      ]
    },
    {
      "cell_type": "code",
      "source": [
        "data"
      ],
      "metadata": {
        "id": "5-YpufkbAAMa"
      },
      "id": "5-YpufkbAAMa",
      "execution_count": null,
      "outputs": []
    },
    {
      "cell_type": "code",
      "execution_count": null,
      "id": "c6d8e2d1-a65a-4fec-af11-7073ac431dea",
      "metadata": {
        "id": "c6d8e2d1-a65a-4fec-af11-7073ac431dea"
      },
      "outputs": [],
      "source": [
        "data = data.drop(['telefono', 'celular', 'tv_paga', 'conex_inte'], axis=1)"
      ]
    },
    {
      "cell_type": "code",
      "execution_count": null,
      "id": "a6d9f83d-4e0d-4b52-b231-6d97d982e58e",
      "metadata": {
        "id": "a6d9f83d-4e0d-4b52-b231-6d97d982e58e"
      },
      "outputs": [],
      "source": [
        "# Crear variable: 1 si tiene al menos agua o drenaje, 0 si no tiene ninguno\n",
        "data['agua_drenaje'] = data[['disp_agua', 'drenaje']].eq(1).all(axis=1).astype(int)"
      ]
    },
    {
      "cell_type": "code",
      "execution_count": null,
      "id": "dbc2f023-8eed-41e6-bd1e-cafbd0293c96",
      "metadata": {
        "id": "dbc2f023-8eed-41e6-bd1e-cafbd0293c96"
      },
      "outputs": [],
      "source": [
        "data = data.drop(['disp_agua', 'drenaje'], axis=1)"
      ]
    },
    {
      "cell_type": "code",
      "execution_count": null,
      "id": "f5f03b98-5201-4434-ba32-2e2bc0b86129",
      "metadata": {
        "id": "f5f03b98-5201-4434-ba32-2e2bc0b86129"
      },
      "outputs": [],
      "source": [
        "data['neducativojefe'] = np.nan\n",
        "\n",
        "# Aplicar condiciones en orden de menor a mayor nivel educativo\n",
        "data.loc[data['d_ejh_sine'] == 1, 'neducativojefe'] = 1\n",
        "data.loc[data['d_ejh_prim'] == 1, 'neducativojefe'] = 2\n",
        "data.loc[data['d_ejh_secu'] == 1, 'neducativojefe'] = 3\n",
        "data.loc[data['d_ejh_prep'] == 1, 'neducativojefe'] = 4\n",
        "data.loc[data['d_ejh_supe'] == 1, 'neducativojefe'] = 5\n",
        "\n",
        "# Convertir a entero (opcional, si no esperas valores faltantes)\n",
        "data['neducativojefe'] = data['neducativojefe'].astype('Int64')"
      ]
    },
    {
      "cell_type": "code",
      "execution_count": null,
      "id": "72ffcaab-2d0b-4772-a331-ce5eb8db4a9d",
      "metadata": {
        "id": "72ffcaab-2d0b-4772-a331-ce5eb8db4a9d"
      },
      "outputs": [],
      "source": [
        "data = data.drop(['d_ejh_sine','d_ejh_prim','d_ejh_secu','d_ejh_prep','d_ejh_supe'], axis=1)"
      ]
    },
    {
      "cell_type": "code",
      "execution_count": null,
      "id": "1ddc2b41-db0e-4edc-8496-04edaeac6354",
      "metadata": {
        "id": "1ddc2b41-db0e-4edc-8496-04edaeac6354"
      },
      "outputs": [],
      "source": [
        "data['trabajomenores'] = ((data['trab_men1214'] != 0) | (data['trab_men1517'] != 0)).astype(int)"
      ]
    },
    {
      "cell_type": "code",
      "execution_count": null,
      "id": "7240726f-4cd7-4690-a498-fd0c68251f90",
      "metadata": {
        "id": "7240726f-4cd7-4690-a498-fd0c68251f90"
      },
      "outputs": [],
      "source": [
        "data = data.drop(['trab_men1517','trab_men1214'], axis=1)"
      ]
    },
    {
      "cell_type": "code",
      "execution_count": null,
      "id": "7caaa75a-45c4-47cb-93ac-c724a7205208",
      "metadata": {
        "id": "7caaa75a-45c4-47cb-93ac-c724a7205208"
      },
      "outputs": [],
      "source": [
        "# Paso 1: crear columna binaria si la persona es menor de 18\n",
        "data['es_ninio'] = (data['edad'] < 18).astype(int)\n",
        "\n",
        "# Paso 2: agrupar por hogar (folioviv) y contar cuántos niños hay\n",
        "conteo_niños = data.groupby('folioviv')['es_ninio'].sum()\n",
        "\n",
        "# Paso 3: asignar el conteo a cada fila del DataFrame original\n",
        "data['niños'] = data['folioviv'].map(conteo_niños)\n",
        "\n",
        "# (opcional) eliminar la columna auxiliar\n",
        "data = data.drop(columns='es_ninio')"
      ]
    },
    {
      "cell_type": "code",
      "execution_count": null,
      "id": "aaf8a80a-4731-4323-99a8-36952e8de230",
      "metadata": {
        "id": "aaf8a80a-4731-4323-99a8-36952e8de230"
      },
      "outputs": [],
      "source": [
        "# Lista de columnas de ocupación\n",
        "cols_ocup = [\n",
        "    'n_sinco_1', 'n_sinco_2', 'n_sinco_3',\n",
        "    'n_sinco_4', 'n_sinco_5', 'n_sinco_6',\n",
        "    'n_sinco_7', 'n_sinco_8', 'n_sinco_9'\n",
        "]\n",
        "\n",
        "# Función que aplica la lógica para cada fila\n",
        "def ocupacion_principal(row):\n",
        "    valores = row[cols_ocup]\n",
        "    max_valor = valores.max()\n",
        "\n",
        "    if (valores == max_valor).sum() == 1:\n",
        "        # Si solo una columna tiene el valor máximo\n",
        "        return valores.idxmax()\n",
        "    else:\n",
        "        # Hay empate\n",
        "        return \"más de una ocupación principal\"\n",
        "\n",
        "# Aplicar la función fila por fila\n",
        "data['ocupacion_hogar'] = data.apply(ocupacion_principal, axis=1)"
      ]
    },
    {
      "cell_type": "code",
      "execution_count": null,
      "id": "15c0eb0a-a622-4220-85cd-aeac5889aac9",
      "metadata": {
        "id": "15c0eb0a-a622-4220-85cd-aeac5889aac9"
      },
      "outputs": [],
      "source": [
        "# Mapeo de nombres a números\n",
        "mapeo_ocupacion = {\n",
        "    'n_sinco_1': 1,\n",
        "    'n_sinco_2': 2,\n",
        "    'n_sinco_3': 3,\n",
        "    'n_sinco_4': 4,\n",
        "    'n_sinco_5': 5,\n",
        "    'n_sinco_6': 6,\n",
        "    'n_sinco_7': 7,\n",
        "    'n_sinco_8': 8,\n",
        "    'n_sinco_9': 9,\n",
        "    'más de una ocupación principal': 10\n",
        "}\n",
        "\n",
        "# Aplicar el reemplazo en la columna ocupacion_hogar\n",
        "data['ocupacion_hogar'] = data['ocupacion_hogar'].replace(mapeo_ocupacion)"
      ]
    },
    {
      "cell_type": "code",
      "execution_count": null,
      "id": "e4bf5ccd-7ca6-4991-b70d-c4f33517ea6f",
      "metadata": {
        "id": "e4bf5ccd-7ca6-4991-b70d-c4f33517ea6f"
      },
      "outputs": [],
      "source": [
        "data = data.drop(['n_sinco_1', 'n_sinco_2', 'n_sinco_3',\n",
        "    'n_sinco_4', 'n_sinco_5', 'n_sinco_6',\n",
        "    'n_sinco_7', 'n_sinco_8', 'n_sinco_9'], axis=1)"
      ]
    },
    {
      "cell_type": "code",
      "execution_count": null,
      "id": "9ed31c14-c1d4-46f0-b5d7-25b022c1499c",
      "metadata": {
        "id": "9ed31c14-c1d4-46f0-b5d7-25b022c1499c"
      },
      "outputs": [],
      "source": [
        "# 3. Filtrar para quedarte solo con paren == 1\n",
        "data = data[data['paren'] == 1].copy()"
      ]
    },
    {
      "cell_type": "code",
      "source": [
        "len(data)"
      ],
      "metadata": {
        "id": "a1vfk090ACVj"
      },
      "id": "a1vfk090ACVj",
      "execution_count": null,
      "outputs": []
    },
    {
      "cell_type": "code",
      "execution_count": null,
      "id": "b1fff12e-07d4-482b-b67f-cfa3971ac6aa",
      "metadata": {
        "id": "b1fff12e-07d4-482b-b67f-cfa3971ac6aa"
      },
      "outputs": [],
      "source": [
        "data = data.reset_index(drop=True)"
      ]
    },
    {
      "cell_type": "code",
      "execution_count": null,
      "id": "f3d81a9c-5c03-4680-b3c5-dcd0e1a7ccab",
      "metadata": {
        "id": "f3d81a9c-5c03-4680-b3c5-dcd0e1a7ccab"
      },
      "outputs": [],
      "source": [
        "# 3. Filtrar para quedarte solo con numren == 1\n",
        "data = data[data['numren'] == 1].copy()"
      ]
    },
    {
      "cell_type": "code",
      "source": [
        "len(data)"
      ],
      "metadata": {
        "id": "T0F0JP6kADfH"
      },
      "id": "T0F0JP6kADfH",
      "execution_count": null,
      "outputs": []
    },
    {
      "cell_type": "code",
      "execution_count": null,
      "id": "07055f87-98d9-4c4c-b840-880daaf840d9",
      "metadata": {
        "id": "07055f87-98d9-4c4c-b840-880daaf840d9"
      },
      "outputs": [],
      "source": [
        "data = data.reset_index(drop=True)"
      ]
    },
    {
      "cell_type": "code",
      "execution_count": null,
      "id": "856e4f79-9f4b-42ed-8117-2e0bb0664a0f",
      "metadata": {
        "id": "856e4f79-9f4b-42ed-8117-2e0bb0664a0f"
      },
      "outputs": [],
      "source": [
        "data = data.drop('paren', axis=1)"
      ]
    },
    {
      "cell_type": "code",
      "source": [
        "# Sumar los dos componentes del gasto estimado\n",
        "df['gasto_total_e'] = df['gas_alim_e'] + df['gas_tran_e']\n",
        "\n",
        "# Tomar el logaritmo natural del total\n",
        "# Para evitar errores por ceros o valores negativos, puedes usar una transformación segura\n",
        "df['consumption_expenditure'] = np.where(\n",
        "    df['gasto_total_e'].isna() | (df['gasto_total_e'] == 0),\n",
        "    0,\n",
        "    np.log(df['gasto_total_e'])\n",
        ")"
      ],
      "metadata": {
        "id": "Rzm-gFSuAagR"
      },
      "id": "Rzm-gFSuAagR",
      "execution_count": null,
      "outputs": []
    },
    {
      "cell_type": "code",
      "execution_count": null,
      "id": "3409652e-4c7a-4e13-87f2-aa6c82ab3139",
      "metadata": {
        "id": "3409652e-4c7a-4e13-87f2-aa6c82ab3139"
      },
      "outputs": [],
      "source": [
        "data = data.drop(['gas_alim_e','gas_tran_e'], axis=1)"
      ]
    },
    {
      "cell_type": "code",
      "execution_count": null,
      "id": "5393053d-8a7e-4173-8218-b0996fcf091e",
      "metadata": {
        "id": "5393053d-8a7e-4173-8218-b0996fcf091e"
      },
      "outputs": [],
      "source": [
        "data = data.drop('id_men', axis=1)"
      ]
    },
    {
      "cell_type": "code",
      "source": [
        "df['basic_energy'] = ((df['aire_acond'] == 1) | (df['calefacc'] == 1)).astype(int)"
      ],
      "metadata": {
        "id": "GTGtPbyYA6yv"
      },
      "id": "GTGtPbyYA6yv",
      "execution_count": null,
      "outputs": []
    },
    {
      "cell_type": "code",
      "source": [
        "data = data.drop(['aire_acond','calefacc'], axis=1)"
      ],
      "metadata": {
        "id": "l9Tjd__1A605"
      },
      "id": "l9Tjd__1A605",
      "execution_count": null,
      "outputs": []
    },
    {
      "cell_type": "code",
      "source": [
        "df['housing_tenure'] = (df['tenencia'] == 4).astype(int)"
      ],
      "metadata": {
        "id": "6CgibsvUA-Wb"
      },
      "id": "6CgibsvUA-Wb",
      "execution_count": null,
      "outputs": []
    },
    {
      "cell_type": "code",
      "source": [
        "data = data.drop('tenencia', axis=1)"
      ],
      "metadata": {
        "id": "D8TZ4uqXA621"
      },
      "id": "D8TZ4uqXA621",
      "execution_count": null,
      "outputs": []
    },
    {
      "cell_type": "code",
      "execution_count": null,
      "id": "703f20c6-0983-4839-ab26-d6900dc5dcef",
      "metadata": {
        "id": "703f20c6-0983-4839-ab26-d6900dc5dcef"
      },
      "outputs": [],
      "source": [
        "dfregresiones = data"
      ]
    },
    {
      "cell_type": "code",
      "source": [
        "dfregresiones.columns"
      ],
      "metadata": {
        "id": "2wnnixIrAEpU"
      },
      "id": "2wnnixIrAEpU",
      "execution_count": null,
      "outputs": []
    },
    {
      "cell_type": "code",
      "execution_count": null,
      "id": "07c2e21b-6b68-48db-8c79-df41b8eb20de",
      "metadata": {
        "id": "07c2e21b-6b68-48db-8c79-df41b8eb20de"
      },
      "outputs": [],
      "source": [
        "import openpyxl"
      ]
    },
    {
      "cell_type": "code",
      "execution_count": null,
      "id": "7ed61c93-9ff8-46c8-8609-93245b9a274e",
      "metadata": {
        "id": "7ed61c93-9ff8-46c8-8609-93245b9a274e"
      },
      "outputs": [],
      "source": [
        "dfregresiones.to_excel(\"dfregresion22.xlsx\")"
      ]
    },
    {
      "cell_type": "code",
      "execution_count": null,
      "id": "7e94549c-77e8-47d2-80e1-56ebc264f74b",
      "metadata": {
        "id": "7e94549c-77e8-47d2-80e1-56ebc264f74b"
      },
      "outputs": [],
      "source": [
        "dfML = data.drop(columns=['folioviv', 'foliohog', 'numren', 'est_dis', 'upm', 'factor'], axis=1)"
      ]
    },
    {
      "cell_type": "code",
      "source": [
        "dfML.columns"
      ],
      "metadata": {
        "id": "KKUHyQ3lAFxb"
      },
      "id": "KKUHyQ3lAFxb",
      "execution_count": null,
      "outputs": []
    },
    {
      "cell_type": "code",
      "execution_count": null,
      "id": "4bb4e16a-d835-4bf8-85f9-3138da7345e6",
      "metadata": {
        "id": "4bb4e16a-d835-4bf8-85f9-3138da7345e6"
      },
      "outputs": [],
      "source": [
        "dfMLplp = dfML.drop('plp_e', axis=1)"
      ]
    },
    {
      "cell_type": "code",
      "source": [
        "dfMLplp.columns #19 predictores y 1 variable independiente: plp"
      ],
      "metadata": {
        "id": "DMqQjAh-AG6K"
      },
      "id": "DMqQjAh-AG6K",
      "execution_count": null,
      "outputs": []
    },
    {
      "cell_type": "code",
      "execution_count": null,
      "id": "b7778136-6003-47d0-93c1-e77310926a7f",
      "metadata": {
        "id": "b7778136-6003-47d0-93c1-e77310926a7f"
      },
      "outputs": [],
      "source": [
        "dfMLplpe = dfML.drop('plp', axis=1)"
      ]
    },
    {
      "cell_type": "code",
      "source": [
        "dfMLplpe.columns #19 predictores y 1 variable independiente: plp_e"
      ],
      "metadata": {
        "id": "5RMFHYR7AIJW"
      },
      "id": "5RMFHYR7AIJW",
      "execution_count": null,
      "outputs": []
    },
    {
      "cell_type": "code",
      "execution_count": null,
      "id": "1d6c0c49-bf69-4f7c-9b4d-e34b8ef8168a",
      "metadata": {
        "id": "1d6c0c49-bf69-4f7c-9b4d-e34b8ef8168a"
      },
      "outputs": [],
      "source": [
        "dfML.to_excel(\"dfML22.xlsx\")"
      ]
    },
    {
      "cell_type": "code",
      "execution_count": null,
      "id": "eabad706-8dd3-47bb-b233-095ef431dace",
      "metadata": {
        "id": "eabad706-8dd3-47bb-b233-095ef431dace"
      },
      "outputs": [],
      "source": [
        "dfMLplp.to_excel(\"dfMLplp22.xlsx\")"
      ]
    },
    {
      "cell_type": "code",
      "execution_count": null,
      "id": "304a77a4-91ce-4892-a852-e6a61ccb20b5",
      "metadata": {
        "id": "304a77a4-91ce-4892-a852-e6a61ccb20b5"
      },
      "outputs": [],
      "source": [
        "dfMLplpe.to_excel(\"dfMLplpe22.xlsx\")"
      ]
    }
  ],
  "metadata": {
    "kernelspec": {
      "display_name": "Python 3 (ipykernel)",
      "language": "python",
      "name": "python3"
    },
    "language_info": {
      "codemirror_mode": {
        "name": "ipython",
        "version": 3
      },
      "file_extension": ".py",
      "mimetype": "text/x-python",
      "name": "python",
      "nbconvert_exporter": "python",
      "pygments_lexer": "ipython3",
      "version": "3.11.7"
    },
    "colab": {
      "provenance": []
    }
  },
  "nbformat": 4,
  "nbformat_minor": 5
}